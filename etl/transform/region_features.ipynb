{
 "cells": [
  {
   "cell_type": "code",
   "execution_count": 1,
   "id": "15582c5a",
   "metadata": {},
   "outputs": [],
   "source": [
    "import pandas as pd\n",
    "import numpy as np\n",
    "from datetime import datetime\n",
    "import holidays\n",
    "import pycountry\n",
    "import world_bank_data as wb\n",
    "from region import *"
   ]
  },
  {
   "cell_type": "code",
   "execution_count": 10,
   "id": "559f724a",
   "metadata": {},
   "outputs": [],
   "source": [
    "charts = pd.read_csv(r'C:\\Users\\ulasz\\OneDrive\\Pulpit\\studia\\sem6\\hurtownie danych\\dane\\charts.csv', nrows=9000000)"
   ]
  },
  {
   "cell_type": "code",
   "execution_count": 11,
   "id": "ff6e2278",
   "metadata": {},
   "outputs": [],
   "source": [
    "dim = extract_region_features(charts, 'region')"
   ]
  },
  {
   "cell_type": "code",
   "execution_count": 12,
   "id": "8c27bdc7",
   "metadata": {},
   "outputs": [
    {
     "data": {
      "text/html": [
       "<div>\n",
       "<style scoped>\n",
       "    .dataframe tbody tr th:only-of-type {\n",
       "        vertical-align: middle;\n",
       "    }\n",
       "\n",
       "    .dataframe tbody tr th {\n",
       "        vertical-align: top;\n",
       "    }\n",
       "\n",
       "    .dataframe thead th {\n",
       "        text-align: right;\n",
       "    }\n",
       "</style>\n",
       "<table border=\"1\" class=\"dataframe\">\n",
       "  <thead>\n",
       "    <tr style=\"text-align: right;\">\n",
       "      <th></th>\n",
       "      <th>title</th>\n",
       "      <th>rank</th>\n",
       "      <th>date</th>\n",
       "      <th>artist</th>\n",
       "      <th>url</th>\n",
       "      <th>region</th>\n",
       "      <th>chart</th>\n",
       "      <th>trend</th>\n",
       "      <th>streams</th>\n",
       "      <th>country_code</th>\n",
       "      <th>continent</th>\n",
       "      <th>language</th>\n",
       "      <th>Population</th>\n",
       "    </tr>\n",
       "  </thead>\n",
       "  <tbody>\n",
       "    <tr>\n",
       "      <th>0</th>\n",
       "      <td>Chantaje (feat. Maluma)</td>\n",
       "      <td>1</td>\n",
       "      <td>2017-01-01</td>\n",
       "      <td>Shakira</td>\n",
       "      <td>https://open.spotify.com/track/6mICuAdrwEjh6Y6...</td>\n",
       "      <td>Argentina</td>\n",
       "      <td>top200</td>\n",
       "      <td>SAME_POSITION</td>\n",
       "      <td>253019.0</td>\n",
       "      <td>ARG</td>\n",
       "      <td>South America</td>\n",
       "      <td>Spanish</td>\n",
       "      <td>45538401.0</td>\n",
       "    </tr>\n",
       "    <tr>\n",
       "      <th>1</th>\n",
       "      <td>Vente Pa' Ca (feat. Maluma)</td>\n",
       "      <td>2</td>\n",
       "      <td>2017-01-01</td>\n",
       "      <td>Ricky Martin</td>\n",
       "      <td>https://open.spotify.com/track/7DM4BPaS7uofFul...</td>\n",
       "      <td>Argentina</td>\n",
       "      <td>top200</td>\n",
       "      <td>MOVE_UP</td>\n",
       "      <td>223988.0</td>\n",
       "      <td>ARG</td>\n",
       "      <td>South America</td>\n",
       "      <td>Spanish</td>\n",
       "      <td>45538401.0</td>\n",
       "    </tr>\n",
       "    <tr>\n",
       "      <th>2</th>\n",
       "      <td>Reggaetón Lento (Bailemos)</td>\n",
       "      <td>3</td>\n",
       "      <td>2017-01-01</td>\n",
       "      <td>CNCO</td>\n",
       "      <td>https://open.spotify.com/track/3AEZUABDXNtecAO...</td>\n",
       "      <td>Argentina</td>\n",
       "      <td>top200</td>\n",
       "      <td>MOVE_DOWN</td>\n",
       "      <td>210943.0</td>\n",
       "      <td>ARG</td>\n",
       "      <td>South America</td>\n",
       "      <td>Spanish</td>\n",
       "      <td>45538401.0</td>\n",
       "    </tr>\n",
       "    <tr>\n",
       "      <th>3</th>\n",
       "      <td>Safari</td>\n",
       "      <td>4</td>\n",
       "      <td>2017-01-01</td>\n",
       "      <td>J Balvin, Pharrell Williams, BIA, Sky</td>\n",
       "      <td>https://open.spotify.com/track/6rQSrBHf7HlZjtc...</td>\n",
       "      <td>Argentina</td>\n",
       "      <td>top200</td>\n",
       "      <td>SAME_POSITION</td>\n",
       "      <td>173865.0</td>\n",
       "      <td>ARG</td>\n",
       "      <td>South America</td>\n",
       "      <td>Spanish</td>\n",
       "      <td>45538401.0</td>\n",
       "    </tr>\n",
       "    <tr>\n",
       "      <th>4</th>\n",
       "      <td>Shaky Shaky</td>\n",
       "      <td>5</td>\n",
       "      <td>2017-01-01</td>\n",
       "      <td>Daddy Yankee</td>\n",
       "      <td>https://open.spotify.com/track/58IL315gMSTD37D...</td>\n",
       "      <td>Argentina</td>\n",
       "      <td>top200</td>\n",
       "      <td>MOVE_UP</td>\n",
       "      <td>153956.0</td>\n",
       "      <td>ARG</td>\n",
       "      <td>South America</td>\n",
       "      <td>Spanish</td>\n",
       "      <td>45538401.0</td>\n",
       "    </tr>\n",
       "  </tbody>\n",
       "</table>\n",
       "</div>"
      ],
      "text/plain": [
       "                         title  rank        date  \\\n",
       "0      Chantaje (feat. Maluma)     1  2017-01-01   \n",
       "1  Vente Pa' Ca (feat. Maluma)     2  2017-01-01   \n",
       "2   Reggaetón Lento (Bailemos)     3  2017-01-01   \n",
       "3                       Safari     4  2017-01-01   \n",
       "4                  Shaky Shaky     5  2017-01-01   \n",
       "\n",
       "                                  artist  \\\n",
       "0                                Shakira   \n",
       "1                           Ricky Martin   \n",
       "2                                   CNCO   \n",
       "3  J Balvin, Pharrell Williams, BIA, Sky   \n",
       "4                           Daddy Yankee   \n",
       "\n",
       "                                                 url     region   chart  \\\n",
       "0  https://open.spotify.com/track/6mICuAdrwEjh6Y6...  Argentina  top200   \n",
       "1  https://open.spotify.com/track/7DM4BPaS7uofFul...  Argentina  top200   \n",
       "2  https://open.spotify.com/track/3AEZUABDXNtecAO...  Argentina  top200   \n",
       "3  https://open.spotify.com/track/6rQSrBHf7HlZjtc...  Argentina  top200   \n",
       "4  https://open.spotify.com/track/58IL315gMSTD37D...  Argentina  top200   \n",
       "\n",
       "           trend   streams country_code      continent language  Population  \n",
       "0  SAME_POSITION  253019.0          ARG  South America  Spanish  45538401.0  \n",
       "1        MOVE_UP  223988.0          ARG  South America  Spanish  45538401.0  \n",
       "2      MOVE_DOWN  210943.0          ARG  South America  Spanish  45538401.0  \n",
       "3  SAME_POSITION  173865.0          ARG  South America  Spanish  45538401.0  \n",
       "4        MOVE_UP  153956.0          ARG  South America  Spanish  45538401.0  "
      ]
     },
     "execution_count": 12,
     "metadata": {},
     "output_type": "execute_result"
    }
   ],
   "source": [
    "dim.head()"
   ]
  },
  {
   "cell_type": "code",
   "execution_count": 13,
   "id": "fd7d7eae",
   "metadata": {},
   "outputs": [
    {
     "data": {
      "text/html": [
       "<div>\n",
       "<style scoped>\n",
       "    .dataframe tbody tr th:only-of-type {\n",
       "        vertical-align: middle;\n",
       "    }\n",
       "\n",
       "    .dataframe tbody tr th {\n",
       "        vertical-align: top;\n",
       "    }\n",
       "\n",
       "    .dataframe thead th {\n",
       "        text-align: right;\n",
       "    }\n",
       "</style>\n",
       "<table border=\"1\" class=\"dataframe\">\n",
       "  <thead>\n",
       "    <tr style=\"text-align: right;\">\n",
       "      <th></th>\n",
       "      <th>title</th>\n",
       "      <th>rank</th>\n",
       "      <th>date</th>\n",
       "      <th>artist</th>\n",
       "      <th>url</th>\n",
       "      <th>region</th>\n",
       "      <th>chart</th>\n",
       "      <th>trend</th>\n",
       "      <th>streams</th>\n",
       "      <th>country_code</th>\n",
       "      <th>continent</th>\n",
       "      <th>language</th>\n",
       "      <th>Population</th>\n",
       "    </tr>\n",
       "  </thead>\n",
       "  <tbody>\n",
       "    <tr>\n",
       "      <th>3234</th>\n",
       "      <td>Starboy</td>\n",
       "      <td>1</td>\n",
       "      <td>2017-01-01</td>\n",
       "      <td>The Weeknd, Daft Punk</td>\n",
       "      <td>https://open.spotify.com/track/5aAx2yezTd8zXrk...</td>\n",
       "      <td>Global</td>\n",
       "      <td>top200</td>\n",
       "      <td>SAME_POSITION</td>\n",
       "      <td>3135625.0</td>\n",
       "      <td>WLD</td>\n",
       "      <td>Global</td>\n",
       "      <td>English</td>\n",
       "      <td>8.061876e+09</td>\n",
       "    </tr>\n",
       "    <tr>\n",
       "      <th>3235</th>\n",
       "      <td>Closer</td>\n",
       "      <td>2</td>\n",
       "      <td>2017-01-01</td>\n",
       "      <td>The Chainsmokers, Halsey</td>\n",
       "      <td>https://open.spotify.com/track/7BKLCZ1jbUBVqRi...</td>\n",
       "      <td>Global</td>\n",
       "      <td>top200</td>\n",
       "      <td>SAME_POSITION</td>\n",
       "      <td>3015525.0</td>\n",
       "      <td>WLD</td>\n",
       "      <td>Global</td>\n",
       "      <td>English</td>\n",
       "      <td>8.061876e+09</td>\n",
       "    </tr>\n",
       "    <tr>\n",
       "      <th>3236</th>\n",
       "      <td>Let Me Love You</td>\n",
       "      <td>3</td>\n",
       "      <td>2017-01-01</td>\n",
       "      <td>DJ Snake, Justin Bieber</td>\n",
       "      <td>https://open.spotify.com/track/4pdPtRcBmOSQDlJ...</td>\n",
       "      <td>Global</td>\n",
       "      <td>top200</td>\n",
       "      <td>MOVE_UP</td>\n",
       "      <td>2545384.0</td>\n",
       "      <td>WLD</td>\n",
       "      <td>Global</td>\n",
       "      <td>English</td>\n",
       "      <td>8.061876e+09</td>\n",
       "    </tr>\n",
       "    <tr>\n",
       "      <th>3237</th>\n",
       "      <td>Rockabye (feat. Sean Paul &amp; Anne-Marie)</td>\n",
       "      <td>4</td>\n",
       "      <td>2017-01-01</td>\n",
       "      <td>Clean Bandit</td>\n",
       "      <td>https://open.spotify.com/track/5knuzwU65gJK7IF...</td>\n",
       "      <td>Global</td>\n",
       "      <td>top200</td>\n",
       "      <td>MOVE_DOWN</td>\n",
       "      <td>2356604.0</td>\n",
       "      <td>WLD</td>\n",
       "      <td>Global</td>\n",
       "      <td>English</td>\n",
       "      <td>8.061876e+09</td>\n",
       "    </tr>\n",
       "    <tr>\n",
       "      <th>3238</th>\n",
       "      <td>One Dance</td>\n",
       "      <td>5</td>\n",
       "      <td>2017-01-01</td>\n",
       "      <td>Drake, WizKid, Kyla</td>\n",
       "      <td>https://open.spotify.com/track/1xznGGDReH1oQq0...</td>\n",
       "      <td>Global</td>\n",
       "      <td>top200</td>\n",
       "      <td>SAME_POSITION</td>\n",
       "      <td>2259887.0</td>\n",
       "      <td>WLD</td>\n",
       "      <td>Global</td>\n",
       "      <td>English</td>\n",
       "      <td>8.061876e+09</td>\n",
       "    </tr>\n",
       "  </tbody>\n",
       "</table>\n",
       "</div>"
      ],
      "text/plain": [
       "                                        title  rank        date  \\\n",
       "3234                                  Starboy     1  2017-01-01   \n",
       "3235                                   Closer     2  2017-01-01   \n",
       "3236                          Let Me Love You     3  2017-01-01   \n",
       "3237  Rockabye (feat. Sean Paul & Anne-Marie)     4  2017-01-01   \n",
       "3238                                One Dance     5  2017-01-01   \n",
       "\n",
       "                        artist  \\\n",
       "3234     The Weeknd, Daft Punk   \n",
       "3235  The Chainsmokers, Halsey   \n",
       "3236   DJ Snake, Justin Bieber   \n",
       "3237              Clean Bandit   \n",
       "3238       Drake, WizKid, Kyla   \n",
       "\n",
       "                                                    url  region   chart  \\\n",
       "3234  https://open.spotify.com/track/5aAx2yezTd8zXrk...  Global  top200   \n",
       "3235  https://open.spotify.com/track/7BKLCZ1jbUBVqRi...  Global  top200   \n",
       "3236  https://open.spotify.com/track/4pdPtRcBmOSQDlJ...  Global  top200   \n",
       "3237  https://open.spotify.com/track/5knuzwU65gJK7IF...  Global  top200   \n",
       "3238  https://open.spotify.com/track/1xznGGDReH1oQq0...  Global  top200   \n",
       "\n",
       "              trend    streams country_code continent language    Population  \n",
       "3234  SAME_POSITION  3135625.0          WLD    Global  English  8.061876e+09  \n",
       "3235  SAME_POSITION  3015525.0          WLD    Global  English  8.061876e+09  \n",
       "3236        MOVE_UP  2545384.0          WLD    Global  English  8.061876e+09  \n",
       "3237      MOVE_DOWN  2356604.0          WLD    Global  English  8.061876e+09  \n",
       "3238  SAME_POSITION  2259887.0          WLD    Global  English  8.061876e+09  "
      ]
     },
     "execution_count": 13,
     "metadata": {},
     "output_type": "execute_result"
    }
   ],
   "source": [
    "dim[dim['region'] == 'Global'].head()"
   ]
  },
  {
   "cell_type": "code",
   "execution_count": 14,
   "id": "925aa8a4",
   "metadata": {},
   "outputs": [
    {
     "data": {
      "text/plain": [
       "title                7\n",
       "rank                 0\n",
       "date                 0\n",
       "artist               0\n",
       "url                  0\n",
       "region               0\n",
       "chart                0\n",
       "trend                0\n",
       "streams         166651\n",
       "country_code         0\n",
       "continent            0\n",
       "language             0\n",
       "Population           0\n",
       "dtype: int64"
      ]
     },
     "execution_count": 14,
     "metadata": {},
     "output_type": "execute_result"
    }
   ],
   "source": [
    "dim.isna().sum()"
   ]
  },
  {
   "cell_type": "code",
   "execution_count": 15,
   "id": "5f59e497",
   "metadata": {},
   "outputs": [
    {
     "data": {
      "text/plain": [
       "Series([], Name: count, dtype: int64)"
      ]
     },
     "execution_count": 15,
     "metadata": {},
     "output_type": "execute_result"
    }
   ],
   "source": [
    "temp = dim[dim['Population'].isna()]\n",
    "temp['region'].value_counts()"
   ]
  },
  {
   "cell_type": "code",
   "execution_count": 12,
   "id": "4e6d131b",
   "metadata": {},
   "outputs": [
    {
     "name": "stdout",
     "output_type": "stream",
     "text": [
      "Processing chunk 51\n",
      "Processing chunk 52\n",
      "Processing chunk 53\n",
      "Brakujące wartości w kolumnie Population według regionu:\n",
      "Series([], dtype: int64)\n"
     ]
    }
   ],
   "source": [
    "import pandas as pd\n",
    "\n",
    "file_path = r'C:\\Users\\ulasz\\OneDrive\\Pulpit\\studia\\sem6\\hurtownie danych\\dane\\charts.csv'\n",
    "chunksize = 500_000\n",
    "\n",
    "chunks = pd.read_csv(file_path, chunksize=chunksize)\n",
    "\n",
    "# Zmienna do przechowywania wyników z każdego chanku\n",
    "missing_regions_summary = pd.Series(dtype=int)\n",
    "all_dim_chunks = []  # Jeśli chcesz potem złączyć wszystkie\n",
    "\n",
    "for i, chunk in enumerate(chunks):\n",
    "\n",
    "    if i < 50:\n",
    "        continue\n",
    "    if i > 65:\n",
    "        break\n",
    "    print(f\"Processing chunk {i + 1}\")\n",
    "\n",
    "\n",
    "    dim = extract_region_features(chunk, 'region')\n",
    "\n",
    "\n",
    "    all_dim_chunks.append(dim)\n",
    "\n",
    "    missing_pop = dim[dim['Population'].isna()]\n",
    "    if not missing_pop.empty:\n",
    "        value_counts = missing_pop['region'].value_counts()\n",
    "        missing_regions_summary = missing_regions_summary.add(value_counts, fill_value=0)\n",
    "\n",
    "print(\"Brakujące wartości w kolumnie Population według regionu:\")\n",
    "print(missing_regions_summary.sort_values(ascending=False))\n",
    "\n",
    "\n"
   ]
  },
  {
   "cell_type": "code",
   "execution_count": 13,
   "id": "71d05f22",
   "metadata": {},
   "outputs": [
    {
     "data": {
      "text/plain": [
       "title                 0\n",
       "rank                  0\n",
       "date                  0\n",
       "artist                0\n",
       "url                   0\n",
       "region                0\n",
       "chart                 0\n",
       "trend                 0\n",
       "streams         1149291\n",
       "country_code          0\n",
       "continent             0\n",
       "language              0\n",
       "Population            0\n",
       "dtype: int64"
      ]
     },
     "execution_count": 13,
     "metadata": {},
     "output_type": "execute_result"
    }
   ],
   "source": [
    "full_dim_df = pd.concat(all_dim_chunks, ignore_index=True)\n",
    "full_dim_df.isna().sum()"
   ]
  },
  {
   "cell_type": "code",
   "execution_count": 14,
   "id": "a169c561",
   "metadata": {},
   "outputs": [
    {
     "name": "stdout",
     "output_type": "stream",
     "text": [
      "Wartości 'Unknown' w kolumnach:\n",
      "artist    47\n",
      "dtype: int64\n"
     ]
    }
   ],
   "source": [
    "unknown_counts = (full_dim_df.astype(str)\n",
    "                  .apply(lambda col: col.str.lower().eq('unknown'))  # eq('unknown') == (== 'unknown')\n",
    "                  .sum())\n",
    "\n",
    "# Filtrowanie tylko kolumn, w których są takie wartości\n",
    "unknown_counts = unknown_counts[unknown_counts > 0]\n",
    "\n",
    "print(\"Wartości 'Unknown' w kolumnach:\")\n",
    "print(unknown_counts)\n"
   ]
  },
  {
   "cell_type": "code",
   "execution_count": 15,
   "id": "029f4cb7",
   "metadata": {},
   "outputs": [
    {
     "data": {
      "text/plain": [
       "Series([], Name: count, dtype: int64)"
      ]
     },
     "execution_count": 15,
     "metadata": {},
     "output_type": "execute_result"
    }
   ],
   "source": [
    "full_dim_df[full_dim_df['continent'] == 'Unknown']['region'].value_counts()"
   ]
  }
 ],
 "metadata": {
  "kernelspec": {
   "display_name": ".venv",
   "language": "python",
   "name": "python3"
  },
  "language_info": {
   "codemirror_mode": {
    "name": "ipython",
    "version": 3
   },
   "file_extension": ".py",
   "mimetype": "text/x-python",
   "name": "python",
   "nbconvert_exporter": "python",
   "pygments_lexer": "ipython3",
   "version": "3.9.1"
  }
 },
 "nbformat": 4,
 "nbformat_minor": 5
}
