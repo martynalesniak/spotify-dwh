{
 "cells": [
  {
   "cell_type": "code",
   "execution_count": 1,
   "id": "a738d14e",
   "metadata": {},
   "outputs": [],
   "source": [
    "import pandas as pd\n",
    "import spotipy\n",
    "from spotipy.oauth2 import SpotifyClientCredentials\n",
    "import os\n",
    "from dotenv import load_dotenv\n",
    "from api_calls import get_audio_features, get_genre, get_track_id\n",
    "import time"
   ]
  },
  {
   "cell_type": "code",
   "execution_count": 2,
   "id": "acf0350b",
   "metadata": {},
   "outputs": [],
   "source": [
    "env_path = r\"C:\\Users\\marty\\OneDrive\\Pulpit\\studia\\sem6\\hurtownie\\spotify-dwh\\.env\"\n",
    "load_dotenv(dotenv_path=env_path)\n",
    "\n",
    "client_id = os.getenv('SPOTIFY_API_KEY')\n",
    "client_secret = os.getenv('CLIENT_SECRET')"
   ]
  },
  {
   "cell_type": "code",
   "execution_count": 22,
   "id": "75225668",
   "metadata": {},
   "outputs": [],
   "source": [
    "sp = spotipy.Spotify(auth_manager=SpotifyClientCredentials(client_id=client_id,\n",
    "                                                           client_secret=client_secret))"
   ]
  },
  {
   "cell_type": "code",
   "execution_count": 4,
   "id": "88c066b3",
   "metadata": {},
   "outputs": [],
   "source": [
    "data = pd.read_csv(r'C:\\Users\\marty\\OneDrive\\Pulpit\\studia\\sem6\\hurtownie\\spotify-dwh\\data\\sample.csv')\n",
    "audio_features_1 = pd.read_csv(r'C:\\Users\\marty\\OneDrive\\Pulpit\\studia\\sem6\\hurtownie\\spotify-dwh\\data\\spotify_tracks_with_audio_features.csv')\n",
    "audio_features_2 = pd.read_csv(r'C:\\Users\\marty\\OneDrive\\Pulpit\\studia\\sem6\\hurtownie\\spotify-dwh\\data\\tracks_with_audio_features.csv')\n"
   ]
  },
  {
   "cell_type": "code",
   "execution_count": null,
   "id": "5af83387",
   "metadata": {},
   "outputs": [],
   "source": [
    "data = data.copy()\n",
    "data['spotify_track_id'] = None\n",
    "\n"
   ]
  },
  {
   "cell_type": "code",
   "execution_count": 16,
   "id": "979a3867",
   "metadata": {},
   "outputs": [],
   "source": [
    "for idx, row in data.iloc[250:300].iterrows():\n",
    "    song = row['Song']\n",
    "    artist = row['Artist']\n",
    "    \n",
    "    track_id = get_track_id(sp, song, artist)\n",
    "    data.at[idx, 'spotify_track_id'] = track_id\n",
    "    \n",
    "    time.sleep(0.1)  "
   ]
  },
  {
   "cell_type": "code",
   "execution_count": 20,
   "id": "7dc7e5bf",
   "metadata": {},
   "outputs": [],
   "source": [
    "def chunk_list(lst, n):\n",
    "    \"\"\"Dzieli listę lst na kawałki po n elementów.\"\"\"\n",
    "    for i in range(0, len(lst), n):\n",
    "        yield lst[i:i + n]\n"
   ]
  },
  {
   "cell_type": "code",
   "execution_count": 23,
   "id": "ae3795cb",
   "metadata": {},
   "outputs": [
    {
     "name": "stderr",
     "output_type": "stream",
     "text": [
      "HTTP Error for GET to https://api.spotify.com/v1/audio-features/?ids=5ayybTSXNwcarDtxQKqvWX,006Ndmw2hHxvnLbJsBFnPx,4jmFSkpcqLOUN6scGU6BOO,40fD7ct05FvQHLdQTgJelG,3HZJ9BLBpDya4p71VfXSWp,2IqRdttvMd4Kjw4Uc7bXNN,32CVurlBxtEYQlDm3yzCLl,35ySEC3RyS1w36bkpgj1lT,4mGx4CmszdVQXoy7RJT9QH,4ToAe9XCKjFGin2Qfswwis,2CeK4FKsz6k1ftawMc3rbJ,3bOkX6Yz6Pe4NByWzuJY6G,2CeqxyOZEyiL6pTDYZ9gPH,67eLX8pb0aEvXWGQTpfRzf,50kRAxTeQ6r6EvWRlFp9pf,6QfGyzfwf7dm38Tmf49BpC,27wSgJv4b9YPQXshu0YNRZ,3ZyJfbh2Y9y15f45qY1pDJ,2GMxS3x59raBvdX9SFNmtC,20UqPKVahgJuPzc0rMbSyU,1ohTeu24SfPoEit2x68BGH,0XmVkj183Ahgnfyn6A77TO,5y5523sFe8r0zudKbZpIkY,19qkesdHjvJEZztR8kFuY3,2RE4t6rX2Wcl2igB8MIOr4,659zBLfvlpLiNIZwbnoacH,4wXPZBafMKbTtdOB7BVGcp,76eNJQoJmN4mfsUW0q8HPv,3gzW2ONf5SucLEiVPM3ACQ,5CiS9F18yjGenwvPiQ8Imr,6eIEXINZt8rtgqEtOxP9ur,23R3NTnNUt1YktcDDTLcAd,5sdZEmlwDJpISfCjyCneHi,2ZCkqAo0tzzCVOth7ityh5,2WQ8KMLXrSV7zL3hlwFVv8,4xWohADqZ5oFXcFOiC10l4,6NWKlkSFWP2Et2cEOpCbPY,07GtDOCxmye5KDWsTSACPk,5DX3P3b7kv8266XyuA7fsS,6dp3vxQ5UVsxD6N1mbPxjg,23fipgIcZ3WwaIM4mCnDSe,1xjCGpAJVRAECqs5Pt6Gw1,4FrMb1ckGBrhARbHySQKx5,3dyWBUhFyj6qlRknmC2JLn,2UBGlXKG9XHgaHoGzNmhWf,76AbCflWiJBgByIqFl396O,0WkZQPNC0c7yrsMX1arVAd,2QrZsVjOlmIvMRSzPrAYyw,4UgiNlKI2BrCmMhGnrYFze,36CvDUCDMDbp3dZidKxTds,6jLTTNVVY4UxCSBZ2Z8qdR,3oAWTk92mZBxKBOKf8mR5v,50R1NxOJ5I6LNQjZzocS78,0nKb6gYFt0jgs6c2nmqvSm,74tLlkN3rgVzRqQJgPfink,4wGODoGWufEnBJIIYa8EKL,3AITyYJRMParI2UsWHHcCQ,672bYvh0ygZMrUvRr6hN4P,41dRAhs4kcZmWPhCKFuoyj,7vAw4LLIms6X8ZHcbtoazz,3bNEy5u3HrAmOln2FiPcYD,6zH4F42t7jlPsRGcxGbK9a,6YAgmqaeo8Fm3pne8OJEBo,2xEoousA0KD9PDOu6Ddjut,0TwtbWM3QK3OWhyCFufsrI,7fxpR18CmzkASOoIzEzWnI,39aMG47Bvx6PF268MYlmIF,2hECDE2rtiNWCjxviTO5W4,4lrxXWAcHZWUkbB6PRrJ5M,6VbIr50kEUMKTC1hyiA51b,5lHDpxhJuWfNefd2IImNLi,2xP7HSzLjtJsbuW7noNoeL,0gajO7cqoU7818kadiEdui,3lQN1QZLf11UDabPaVPElk,6c4MQr28fWE4YxRUCSs55K,31iVdpgr99tK5zvLxmQJGW,1UCakUskS8KLNVZQFRRDBW,5Qbie4S6sDDMOjwodcEhgA,23F0g4UHkNq7rBfhqj87KG,1EmxgiM6t0UVuoclD5fqT2,4tRnUUeXZYLuiF6YvaYuBB,4j80rvP2WPxSUAEQVEa7BK,6HaZjyWJYu8iampgulgAvs,7tyuIX684fvLD5oipSb0Y3,2KRejPhPZaxmDtUbVgOwNR,2Bw9tGndnbkmfsdvvCQ68m,1nPYfGi4zkUaDIirBvFmG9,5C576xZTXP04a3PwSxNn0H,1OdIJI2nChNUwj9tJ6riFr,6SJAiXi2IV7YM0RkHuA002,7dblNGnRXEBrVJunazs2U5,6aOxKTk3Dh08MGgnLv9862,1OLVFX1W6QTVhXZEcJzRpd,7pfbQyxjTRrzW5IjfL5ryA,6XryacCjlrgV6EXlQbEJRx,6mw3mUQYyU0li2ZgWLqj4S,1ZGJKmUIMPzCf0OvFwDrSz,1sYhm4ybjVUX09GDwIwXfS,40Tb4czvl5B3hs3hkFtNTB,6BlPoYawCJD4vcNfhULjVU with Params: {} returned 403 due to None\n"
     ]
    },
    {
     "ename": "SpotifyException",
     "evalue": "http status: 403, code:-1 - https://api.spotify.com/v1/audio-features/?ids=5ayybTSXNwcarDtxQKqvWX,006Ndmw2hHxvnLbJsBFnPx,4jmFSkpcqLOUN6scGU6BOO,40fD7ct05FvQHLdQTgJelG,3HZJ9BLBpDya4p71VfXSWp,2IqRdttvMd4Kjw4Uc7bXNN,32CVurlBxtEYQlDm3yzCLl,35ySEC3RyS1w36bkpgj1lT,4mGx4CmszdVQXoy7RJT9QH,4ToAe9XCKjFGin2Qfswwis,2CeK4FKsz6k1ftawMc3rbJ,3bOkX6Yz6Pe4NByWzuJY6G,2CeqxyOZEyiL6pTDYZ9gPH,67eLX8pb0aEvXWGQTpfRzf,50kRAxTeQ6r6EvWRlFp9pf,6QfGyzfwf7dm38Tmf49BpC,27wSgJv4b9YPQXshu0YNRZ,3ZyJfbh2Y9y15f45qY1pDJ,2GMxS3x59raBvdX9SFNmtC,20UqPKVahgJuPzc0rMbSyU,1ohTeu24SfPoEit2x68BGH,0XmVkj183Ahgnfyn6A77TO,5y5523sFe8r0zudKbZpIkY,19qkesdHjvJEZztR8kFuY3,2RE4t6rX2Wcl2igB8MIOr4,659zBLfvlpLiNIZwbnoacH,4wXPZBafMKbTtdOB7BVGcp,76eNJQoJmN4mfsUW0q8HPv,3gzW2ONf5SucLEiVPM3ACQ,5CiS9F18yjGenwvPiQ8Imr,6eIEXINZt8rtgqEtOxP9ur,23R3NTnNUt1YktcDDTLcAd,5sdZEmlwDJpISfCjyCneHi,2ZCkqAo0tzzCVOth7ityh5,2WQ8KMLXrSV7zL3hlwFVv8,4xWohADqZ5oFXcFOiC10l4,6NWKlkSFWP2Et2cEOpCbPY,07GtDOCxmye5KDWsTSACPk,5DX3P3b7kv8266XyuA7fsS,6dp3vxQ5UVsxD6N1mbPxjg,23fipgIcZ3WwaIM4mCnDSe,1xjCGpAJVRAECqs5Pt6Gw1,4FrMb1ckGBrhARbHySQKx5,3dyWBUhFyj6qlRknmC2JLn,2UBGlXKG9XHgaHoGzNmhWf,76AbCflWiJBgByIqFl396O,0WkZQPNC0c7yrsMX1arVAd,2QrZsVjOlmIvMRSzPrAYyw,4UgiNlKI2BrCmMhGnrYFze,36CvDUCDMDbp3dZidKxTds,6jLTTNVVY4UxCSBZ2Z8qdR,3oAWTk92mZBxKBOKf8mR5v,50R1NxOJ5I6LNQjZzocS78,0nKb6gYFt0jgs6c2nmqvSm,74tLlkN3rgVzRqQJgPfink,4wGODoGWufEnBJIIYa8EKL,3AITyYJRMParI2UsWHHcCQ,672bYvh0ygZMrUvRr6hN4P,41dRAhs4kcZmWPhCKFuoyj,7vAw4LLIms6X8ZHcbtoazz,3bNEy5u3HrAmOln2FiPcYD,6zH4F42t7jlPsRGcxGbK9a,6YAgmqaeo8Fm3pne8OJEBo,2xEoousA0KD9PDOu6Ddjut,0TwtbWM3QK3OWhyCFufsrI,7fxpR18CmzkASOoIzEzWnI,39aMG47Bvx6PF268MYlmIF,2hECDE2rtiNWCjxviTO5W4,4lrxXWAcHZWUkbB6PRrJ5M,6VbIr50kEUMKTC1hyiA51b,5lHDpxhJuWfNefd2IImNLi,2xP7HSzLjtJsbuW7noNoeL,0gajO7cqoU7818kadiEdui,3lQN1QZLf11UDabPaVPElk,6c4MQr28fWE4YxRUCSs55K,31iVdpgr99tK5zvLxmQJGW,1UCakUskS8KLNVZQFRRDBW,5Qbie4S6sDDMOjwodcEhgA,23F0g4UHkNq7rBfhqj87KG,1EmxgiM6t0UVuoclD5fqT2,4tRnUUeXZYLuiF6YvaYuBB,4j80rvP2WPxSUAEQVEa7BK,6HaZjyWJYu8iampgulgAvs,7tyuIX684fvLD5oipSb0Y3,2KRejPhPZaxmDtUbVgOwNR,2Bw9tGndnbkmfsdvvCQ68m,1nPYfGi4zkUaDIirBvFmG9,5C576xZTXP04a3PwSxNn0H,1OdIJI2nChNUwj9tJ6riFr,6SJAiXi2IV7YM0RkHuA002,7dblNGnRXEBrVJunazs2U5,6aOxKTk3Dh08MGgnLv9862,1OLVFX1W6QTVhXZEcJzRpd,7pfbQyxjTRrzW5IjfL5ryA,6XryacCjlrgV6EXlQbEJRx,6mw3mUQYyU0li2ZgWLqj4S,1ZGJKmUIMPzCf0OvFwDrSz,1sYhm4ybjVUX09GDwIwXfS,40Tb4czvl5B3hs3hkFtNTB,6BlPoYawCJD4vcNfhULjVU:\n None, reason: None",
     "output_type": "error",
     "traceback": [
      "\u001b[1;31m---------------------------------------------------------------------------\u001b[0m",
      "\u001b[1;31mHTTPError\u001b[0m                                 Traceback (most recent call last)",
      "File \u001b[1;32mc:\\Users\\marty\\AppData\\Local\\Programs\\Python\\Python310\\lib\\site-packages\\spotipy\\client.py:271\u001b[0m, in \u001b[0;36mSpotify._internal_call\u001b[1;34m(self, method, url, payload, params)\u001b[0m\n\u001b[0;32m    266\u001b[0m response \u001b[38;5;241m=\u001b[39m \u001b[38;5;28mself\u001b[39m\u001b[38;5;241m.\u001b[39m_session\u001b[38;5;241m.\u001b[39mrequest(\n\u001b[0;32m    267\u001b[0m     method, url, headers\u001b[38;5;241m=\u001b[39mheaders, proxies\u001b[38;5;241m=\u001b[39m\u001b[38;5;28mself\u001b[39m\u001b[38;5;241m.\u001b[39mproxies,\n\u001b[0;32m    268\u001b[0m     timeout\u001b[38;5;241m=\u001b[39m\u001b[38;5;28mself\u001b[39m\u001b[38;5;241m.\u001b[39mrequests_timeout, \u001b[38;5;241m*\u001b[39m\u001b[38;5;241m*\u001b[39margs\n\u001b[0;32m    269\u001b[0m )\n\u001b[1;32m--> 271\u001b[0m \u001b[43mresponse\u001b[49m\u001b[38;5;241;43m.\u001b[39;49m\u001b[43mraise_for_status\u001b[49m\u001b[43m(\u001b[49m\u001b[43m)\u001b[49m\n\u001b[0;32m    272\u001b[0m results \u001b[38;5;241m=\u001b[39m response\u001b[38;5;241m.\u001b[39mjson()\n",
      "File \u001b[1;32mc:\\Users\\marty\\AppData\\Local\\Programs\\Python\\Python310\\lib\\site-packages\\requests\\models.py:1021\u001b[0m, in \u001b[0;36mResponse.raise_for_status\u001b[1;34m(self)\u001b[0m\n\u001b[0;32m   1020\u001b[0m \u001b[38;5;28;01mif\u001b[39;00m http_error_msg:\n\u001b[1;32m-> 1021\u001b[0m     \u001b[38;5;28;01mraise\u001b[39;00m HTTPError(http_error_msg, response\u001b[38;5;241m=\u001b[39m\u001b[38;5;28mself\u001b[39m)\n",
      "\u001b[1;31mHTTPError\u001b[0m: 403 Client Error: Forbidden for url: https://api.spotify.com/v1/audio-features/?ids=5ayybTSXNwcarDtxQKqvWX,006Ndmw2hHxvnLbJsBFnPx,4jmFSkpcqLOUN6scGU6BOO,40fD7ct05FvQHLdQTgJelG,3HZJ9BLBpDya4p71VfXSWp,2IqRdttvMd4Kjw4Uc7bXNN,32CVurlBxtEYQlDm3yzCLl,35ySEC3RyS1w36bkpgj1lT,4mGx4CmszdVQXoy7RJT9QH,4ToAe9XCKjFGin2Qfswwis,2CeK4FKsz6k1ftawMc3rbJ,3bOkX6Yz6Pe4NByWzuJY6G,2CeqxyOZEyiL6pTDYZ9gPH,67eLX8pb0aEvXWGQTpfRzf,50kRAxTeQ6r6EvWRlFp9pf,6QfGyzfwf7dm38Tmf49BpC,27wSgJv4b9YPQXshu0YNRZ,3ZyJfbh2Y9y15f45qY1pDJ,2GMxS3x59raBvdX9SFNmtC,20UqPKVahgJuPzc0rMbSyU,1ohTeu24SfPoEit2x68BGH,0XmVkj183Ahgnfyn6A77TO,5y5523sFe8r0zudKbZpIkY,19qkesdHjvJEZztR8kFuY3,2RE4t6rX2Wcl2igB8MIOr4,659zBLfvlpLiNIZwbnoacH,4wXPZBafMKbTtdOB7BVGcp,76eNJQoJmN4mfsUW0q8HPv,3gzW2ONf5SucLEiVPM3ACQ,5CiS9F18yjGenwvPiQ8Imr,6eIEXINZt8rtgqEtOxP9ur,23R3NTnNUt1YktcDDTLcAd,5sdZEmlwDJpISfCjyCneHi,2ZCkqAo0tzzCVOth7ityh5,2WQ8KMLXrSV7zL3hlwFVv8,4xWohADqZ5oFXcFOiC10l4,6NWKlkSFWP2Et2cEOpCbPY,07GtDOCxmye5KDWsTSACPk,5DX3P3b7kv8266XyuA7fsS,6dp3vxQ5UVsxD6N1mbPxjg,23fipgIcZ3WwaIM4mCnDSe,1xjCGpAJVRAECqs5Pt6Gw1,4FrMb1ckGBrhARbHySQKx5,3dyWBUhFyj6qlRknmC2JLn,2UBGlXKG9XHgaHoGzNmhWf,76AbCflWiJBgByIqFl396O,0WkZQPNC0c7yrsMX1arVAd,2QrZsVjOlmIvMRSzPrAYyw,4UgiNlKI2BrCmMhGnrYFze,36CvDUCDMDbp3dZidKxTds,6jLTTNVVY4UxCSBZ2Z8qdR,3oAWTk92mZBxKBOKf8mR5v,50R1NxOJ5I6LNQjZzocS78,0nKb6gYFt0jgs6c2nmqvSm,74tLlkN3rgVzRqQJgPfink,4wGODoGWufEnBJIIYa8EKL,3AITyYJRMParI2UsWHHcCQ,672bYvh0ygZMrUvRr6hN4P,41dRAhs4kcZmWPhCKFuoyj,7vAw4LLIms6X8ZHcbtoazz,3bNEy5u3HrAmOln2FiPcYD,6zH4F42t7jlPsRGcxGbK9a,6YAgmqaeo8Fm3pne8OJEBo,2xEoousA0KD9PDOu6Ddjut,0TwtbWM3QK3OWhyCFufsrI,7fxpR18CmzkASOoIzEzWnI,39aMG47Bvx6PF268MYlmIF,2hECDE2rtiNWCjxviTO5W4,4lrxXWAcHZWUkbB6PRrJ5M,6VbIr50kEUMKTC1hyiA51b,5lHDpxhJuWfNefd2IImNLi,2xP7HSzLjtJsbuW7noNoeL,0gajO7cqoU7818kadiEdui,3lQN1QZLf11UDabPaVPElk,6c4MQr28fWE4YxRUCSs55K,31iVdpgr99tK5zvLxmQJGW,1UCakUskS8KLNVZQFRRDBW,5Qbie4S6sDDMOjwodcEhgA,23F0g4UHkNq7rBfhqj87KG,1EmxgiM6t0UVuoclD5fqT2,4tRnUUeXZYLuiF6YvaYuBB,4j80rvP2WPxSUAEQVEa7BK,6HaZjyWJYu8iampgulgAvs,7tyuIX684fvLD5oipSb0Y3,2KRejPhPZaxmDtUbVgOwNR,2Bw9tGndnbkmfsdvvCQ68m,1nPYfGi4zkUaDIirBvFmG9,5C576xZTXP04a3PwSxNn0H,1OdIJI2nChNUwj9tJ6riFr,6SJAiXi2IV7YM0RkHuA002,7dblNGnRXEBrVJunazs2U5,6aOxKTk3Dh08MGgnLv9862,1OLVFX1W6QTVhXZEcJzRpd,7pfbQyxjTRrzW5IjfL5ryA,6XryacCjlrgV6EXlQbEJRx,6mw3mUQYyU0li2ZgWLqj4S,1ZGJKmUIMPzCf0OvFwDrSz,1sYhm4ybjVUX09GDwIwXfS,40Tb4czvl5B3hs3hkFtNTB,6BlPoYawCJD4vcNfhULjVU",
      "\nDuring handling of the above exception, another exception occurred:\n",
      "\u001b[1;31mSpotifyException\u001b[0m                          Traceback (most recent call last)",
      "Cell \u001b[1;32mIn[23], line 6\u001b[0m\n\u001b[0;32m      3\u001b[0m df_audio_features_list \u001b[38;5;241m=\u001b[39m []\n\u001b[0;32m      5\u001b[0m \u001b[38;5;28;01mfor\u001b[39;00m chunk \u001b[38;5;129;01min\u001b[39;00m chunk_list(all_track_ids, \u001b[38;5;241m100\u001b[39m):\n\u001b[1;32m----> 6\u001b[0m     df_chunk \u001b[38;5;241m=\u001b[39m \u001b[43mget_audio_features\u001b[49m\u001b[43m(\u001b[49m\u001b[43msp\u001b[49m\u001b[43m,\u001b[49m\u001b[43m \u001b[49m\u001b[43mchunk\u001b[49m\u001b[43m)\u001b[49m  \u001b[38;5;66;03m# wywołujesz API na max 100 trackach\u001b[39;00m\n\u001b[0;32m      7\u001b[0m     df_audio_features_list\u001b[38;5;241m.\u001b[39mappend(df_chunk)\n\u001b[0;32m      9\u001b[0m \u001b[38;5;66;03m# Łączysz wyniki w jeden DataFrame\u001b[39;00m\n",
      "File \u001b[1;32mc:\\Users\\marty\\OneDrive\\Pulpit\\studia\\sem6\\hurtownie\\spotify-dwh\\etl\\transform\\api_calls.py:23\u001b[0m, in \u001b[0;36mget_audio_features\u001b[1;34m(sp, track_ids)\u001b[0m\n\u001b[0;32m     21\u001b[0m \u001b[38;5;28;01mdef\u001b[39;00m \u001b[38;5;21mget_audio_features\u001b[39m(sp, track_ids):\n\u001b[0;32m     22\u001b[0m \u001b[38;5;250m    \u001b[39m\u001b[38;5;124;03m\"\"\"Takes a list of max 100 track_ids and returns a dataframe with audio_features for each id\"\"\"\u001b[39;00m\n\u001b[1;32m---> 23\u001b[0m     audio_features_extracted \u001b[38;5;241m=\u001b[39m \u001b[43msp\u001b[49m\u001b[38;5;241;43m.\u001b[39;49m\u001b[43maudio_features\u001b[49m\u001b[43m(\u001b[49m\u001b[43mtrack_ids\u001b[49m\u001b[43m)\u001b[49m\n\u001b[0;32m     24\u001b[0m     audio_features_cleaned \u001b[38;5;241m=\u001b[39m []\n\u001b[0;32m     25\u001b[0m     \u001b[38;5;28;01mfor\u001b[39;00m track \u001b[38;5;129;01min\u001b[39;00m audio_features_extracted:\n",
      "File \u001b[1;32mc:\\Users\\marty\\AppData\\Local\\Programs\\Python\\Python310\\lib\\site-packages\\spotipy\\client.py:1737\u001b[0m, in \u001b[0;36mSpotify.audio_features\u001b[1;34m(self, tracks)\u001b[0m\n\u001b[0;32m   1735\u001b[0m \u001b[38;5;28;01melse\u001b[39;00m:\n\u001b[0;32m   1736\u001b[0m     tlist \u001b[38;5;241m=\u001b[39m [\u001b[38;5;28mself\u001b[39m\u001b[38;5;241m.\u001b[39m_get_id(\u001b[38;5;124m\"\u001b[39m\u001b[38;5;124mtrack\u001b[39m\u001b[38;5;124m\"\u001b[39m, t) \u001b[38;5;28;01mfor\u001b[39;00m t \u001b[38;5;129;01min\u001b[39;00m tracks]\n\u001b[1;32m-> 1737\u001b[0m     results \u001b[38;5;241m=\u001b[39m \u001b[38;5;28;43mself\u001b[39;49m\u001b[38;5;241;43m.\u001b[39;49m\u001b[43m_get\u001b[49m\u001b[43m(\u001b[49m\u001b[38;5;124;43m\"\u001b[39;49m\u001b[38;5;124;43maudio-features/?ids=\u001b[39;49m\u001b[38;5;124;43m\"\u001b[39;49m\u001b[43m \u001b[49m\u001b[38;5;241;43m+\u001b[39;49m\u001b[43m \u001b[49m\u001b[38;5;124;43m\"\u001b[39;49m\u001b[38;5;124;43m,\u001b[39;49m\u001b[38;5;124;43m\"\u001b[39;49m\u001b[38;5;241;43m.\u001b[39;49m\u001b[43mjoin\u001b[49m\u001b[43m(\u001b[49m\u001b[43mtlist\u001b[49m\u001b[43m)\u001b[49m\u001b[43m)\u001b[49m\n\u001b[0;32m   1738\u001b[0m \u001b[38;5;66;03m# the response has changed, look for the new style first, and if\u001b[39;00m\n\u001b[0;32m   1739\u001b[0m \u001b[38;5;66;03m# its not there, fallback on the old style\u001b[39;00m\n\u001b[0;32m   1740\u001b[0m \u001b[38;5;28;01mif\u001b[39;00m \u001b[38;5;124m\"\u001b[39m\u001b[38;5;124maudio_features\u001b[39m\u001b[38;5;124m\"\u001b[39m \u001b[38;5;129;01min\u001b[39;00m results:\n",
      "File \u001b[1;32mc:\\Users\\marty\\AppData\\Local\\Programs\\Python\\Python310\\lib\\site-packages\\spotipy\\client.py:323\u001b[0m, in \u001b[0;36mSpotify._get\u001b[1;34m(self, url, args, payload, **kwargs)\u001b[0m\n\u001b[0;32m    320\u001b[0m \u001b[38;5;28;01mif\u001b[39;00m args:\n\u001b[0;32m    321\u001b[0m     kwargs\u001b[38;5;241m.\u001b[39mupdate(args)\n\u001b[1;32m--> 323\u001b[0m \u001b[38;5;28;01mreturn\u001b[39;00m \u001b[38;5;28;43mself\u001b[39;49m\u001b[38;5;241;43m.\u001b[39;49m\u001b[43m_internal_call\u001b[49m\u001b[43m(\u001b[49m\u001b[38;5;124;43m\"\u001b[39;49m\u001b[38;5;124;43mGET\u001b[39;49m\u001b[38;5;124;43m\"\u001b[39;49m\u001b[43m,\u001b[49m\u001b[43m \u001b[49m\u001b[43murl\u001b[49m\u001b[43m,\u001b[49m\u001b[43m \u001b[49m\u001b[43mpayload\u001b[49m\u001b[43m,\u001b[49m\u001b[43m \u001b[49m\u001b[43mkwargs\u001b[49m\u001b[43m)\u001b[49m\n",
      "File \u001b[1;32mc:\\Users\\marty\\AppData\\Local\\Programs\\Python\\Python310\\lib\\site-packages\\spotipy\\client.py:293\u001b[0m, in \u001b[0;36mSpotify._internal_call\u001b[1;34m(self, method, url, payload, params)\u001b[0m\n\u001b[0;32m    286\u001b[0m         reason \u001b[38;5;241m=\u001b[39m \u001b[38;5;28;01mNone\u001b[39;00m\n\u001b[0;32m    288\u001b[0m     logger\u001b[38;5;241m.\u001b[39merror(\n\u001b[0;32m    289\u001b[0m         \u001b[38;5;124m'\u001b[39m\u001b[38;5;124mHTTP Error for \u001b[39m\u001b[38;5;132;01m%s\u001b[39;00m\u001b[38;5;124m to \u001b[39m\u001b[38;5;132;01m%s\u001b[39;00m\u001b[38;5;124m with Params: \u001b[39m\u001b[38;5;132;01m%s\u001b[39;00m\u001b[38;5;124m returned \u001b[39m\u001b[38;5;132;01m%s\u001b[39;00m\u001b[38;5;124m due to \u001b[39m\u001b[38;5;132;01m%s\u001b[39;00m\u001b[38;5;124m'\u001b[39m,\n\u001b[0;32m    290\u001b[0m         method, url, args\u001b[38;5;241m.\u001b[39mget(\u001b[38;5;124m\"\u001b[39m\u001b[38;5;124mparams\u001b[39m\u001b[38;5;124m\"\u001b[39m), response\u001b[38;5;241m.\u001b[39mstatus_code, msg\n\u001b[0;32m    291\u001b[0m     )\n\u001b[1;32m--> 293\u001b[0m     \u001b[38;5;28;01mraise\u001b[39;00m SpotifyException(\n\u001b[0;32m    294\u001b[0m         response\u001b[38;5;241m.\u001b[39mstatus_code,\n\u001b[0;32m    295\u001b[0m         \u001b[38;5;241m-\u001b[39m\u001b[38;5;241m1\u001b[39m,\n\u001b[0;32m    296\u001b[0m         \u001b[38;5;124m\"\u001b[39m\u001b[38;5;132;01m%s\u001b[39;00m\u001b[38;5;124m:\u001b[39m\u001b[38;5;130;01m\\n\u001b[39;00m\u001b[38;5;124m \u001b[39m\u001b[38;5;132;01m%s\u001b[39;00m\u001b[38;5;124m\"\u001b[39m \u001b[38;5;241m%\u001b[39m (response\u001b[38;5;241m.\u001b[39murl, msg),\n\u001b[0;32m    297\u001b[0m         reason\u001b[38;5;241m=\u001b[39mreason,\n\u001b[0;32m    298\u001b[0m         headers\u001b[38;5;241m=\u001b[39mresponse\u001b[38;5;241m.\u001b[39mheaders,\n\u001b[0;32m    299\u001b[0m     )\n\u001b[0;32m    300\u001b[0m \u001b[38;5;28;01mexcept\u001b[39;00m requests\u001b[38;5;241m.\u001b[39mexceptions\u001b[38;5;241m.\u001b[39mRetryError \u001b[38;5;28;01mas\u001b[39;00m retry_error:\n\u001b[0;32m    301\u001b[0m     request \u001b[38;5;241m=\u001b[39m retry_error\u001b[38;5;241m.\u001b[39mrequest\n",
      "\u001b[1;31mSpotifyException\u001b[0m: http status: 403, code:-1 - https://api.spotify.com/v1/audio-features/?ids=5ayybTSXNwcarDtxQKqvWX,006Ndmw2hHxvnLbJsBFnPx,4jmFSkpcqLOUN6scGU6BOO,40fD7ct05FvQHLdQTgJelG,3HZJ9BLBpDya4p71VfXSWp,2IqRdttvMd4Kjw4Uc7bXNN,32CVurlBxtEYQlDm3yzCLl,35ySEC3RyS1w36bkpgj1lT,4mGx4CmszdVQXoy7RJT9QH,4ToAe9XCKjFGin2Qfswwis,2CeK4FKsz6k1ftawMc3rbJ,3bOkX6Yz6Pe4NByWzuJY6G,2CeqxyOZEyiL6pTDYZ9gPH,67eLX8pb0aEvXWGQTpfRzf,50kRAxTeQ6r6EvWRlFp9pf,6QfGyzfwf7dm38Tmf49BpC,27wSgJv4b9YPQXshu0YNRZ,3ZyJfbh2Y9y15f45qY1pDJ,2GMxS3x59raBvdX9SFNmtC,20UqPKVahgJuPzc0rMbSyU,1ohTeu24SfPoEit2x68BGH,0XmVkj183Ahgnfyn6A77TO,5y5523sFe8r0zudKbZpIkY,19qkesdHjvJEZztR8kFuY3,2RE4t6rX2Wcl2igB8MIOr4,659zBLfvlpLiNIZwbnoacH,4wXPZBafMKbTtdOB7BVGcp,76eNJQoJmN4mfsUW0q8HPv,3gzW2ONf5SucLEiVPM3ACQ,5CiS9F18yjGenwvPiQ8Imr,6eIEXINZt8rtgqEtOxP9ur,23R3NTnNUt1YktcDDTLcAd,5sdZEmlwDJpISfCjyCneHi,2ZCkqAo0tzzCVOth7ityh5,2WQ8KMLXrSV7zL3hlwFVv8,4xWohADqZ5oFXcFOiC10l4,6NWKlkSFWP2Et2cEOpCbPY,07GtDOCxmye5KDWsTSACPk,5DX3P3b7kv8266XyuA7fsS,6dp3vxQ5UVsxD6N1mbPxjg,23fipgIcZ3WwaIM4mCnDSe,1xjCGpAJVRAECqs5Pt6Gw1,4FrMb1ckGBrhARbHySQKx5,3dyWBUhFyj6qlRknmC2JLn,2UBGlXKG9XHgaHoGzNmhWf,76AbCflWiJBgByIqFl396O,0WkZQPNC0c7yrsMX1arVAd,2QrZsVjOlmIvMRSzPrAYyw,4UgiNlKI2BrCmMhGnrYFze,36CvDUCDMDbp3dZidKxTds,6jLTTNVVY4UxCSBZ2Z8qdR,3oAWTk92mZBxKBOKf8mR5v,50R1NxOJ5I6LNQjZzocS78,0nKb6gYFt0jgs6c2nmqvSm,74tLlkN3rgVzRqQJgPfink,4wGODoGWufEnBJIIYa8EKL,3AITyYJRMParI2UsWHHcCQ,672bYvh0ygZMrUvRr6hN4P,41dRAhs4kcZmWPhCKFuoyj,7vAw4LLIms6X8ZHcbtoazz,3bNEy5u3HrAmOln2FiPcYD,6zH4F42t7jlPsRGcxGbK9a,6YAgmqaeo8Fm3pne8OJEBo,2xEoousA0KD9PDOu6Ddjut,0TwtbWM3QK3OWhyCFufsrI,7fxpR18CmzkASOoIzEzWnI,39aMG47Bvx6PF268MYlmIF,2hECDE2rtiNWCjxviTO5W4,4lrxXWAcHZWUkbB6PRrJ5M,6VbIr50kEUMKTC1hyiA51b,5lHDpxhJuWfNefd2IImNLi,2xP7HSzLjtJsbuW7noNoeL,0gajO7cqoU7818kadiEdui,3lQN1QZLf11UDabPaVPElk,6c4MQr28fWE4YxRUCSs55K,31iVdpgr99tK5zvLxmQJGW,1UCakUskS8KLNVZQFRRDBW,5Qbie4S6sDDMOjwodcEhgA,23F0g4UHkNq7rBfhqj87KG,1EmxgiM6t0UVuoclD5fqT2,4tRnUUeXZYLuiF6YvaYuBB,4j80rvP2WPxSUAEQVEa7BK,6HaZjyWJYu8iampgulgAvs,7tyuIX684fvLD5oipSb0Y3,2KRejPhPZaxmDtUbVgOwNR,2Bw9tGndnbkmfsdvvCQ68m,1nPYfGi4zkUaDIirBvFmG9,5C576xZTXP04a3PwSxNn0H,1OdIJI2nChNUwj9tJ6riFr,6SJAiXi2IV7YM0RkHuA002,7dblNGnRXEBrVJunazs2U5,6aOxKTk3Dh08MGgnLv9862,1OLVFX1W6QTVhXZEcJzRpd,7pfbQyxjTRrzW5IjfL5ryA,6XryacCjlrgV6EXlQbEJRx,6mw3mUQYyU0li2ZgWLqj4S,1ZGJKmUIMPzCf0OvFwDrSz,1sYhm4ybjVUX09GDwIwXfS,40Tb4czvl5B3hs3hkFtNTB,6BlPoYawCJD4vcNfhULjVU:\n None, reason: None"
     ]
    }
   ],
   "source": [
    "\n",
    "all_track_ids = data['spotify_track_id'].dropna().tolist()  # lista tracków bez braków\n",
    "\n",
    "df_audio_features_list = []\n",
    "\n",
    "for chunk in chunk_list(all_track_ids, 100):\n",
    "    df_chunk = get_audio_features(sp, chunk)  # wywołujesz API na max 100 trackach\n",
    "    df_audio_features_list.append(df_chunk)\n",
    "\n",
    "# Łączysz wyniki w jeden DataFrame\n",
    "df_audio_features = pd.concat(df_audio_features_list, ignore_index=True)\n"
   ]
  }
 ],
 "metadata": {
  "kernelspec": {
   "display_name": "Python 3",
   "language": "python",
   "name": "python3"
  },
  "language_info": {
   "codemirror_mode": {
    "name": "ipython",
    "version": 3
   },
   "file_extension": ".py",
   "mimetype": "text/x-python",
   "name": "python",
   "nbconvert_exporter": "python",
   "pygments_lexer": "ipython3",
   "version": "3.10.0"
  }
 },
 "nbformat": 4,
 "nbformat_minor": 5
}
