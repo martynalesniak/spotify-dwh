{
 "cells": [
  {
   "cell_type": "code",
   "execution_count": 7,
   "id": "a738d14e",
   "metadata": {},
   "outputs": [],
   "source": [
    "import pandas as pd\n",
    "import spotipy\n",
    "from spotipy.oauth2 import SpotifyClientCredentials\n",
    "import os\n",
    "from dotenv import load_dotenv"
   ]
  },
  {
   "cell_type": "code",
   "execution_count": 32,
   "id": "acf0350b",
   "metadata": {},
   "outputs": [],
   "source": [
    "env_path = r\"C:\\Users\\marty\\OneDrive\\Pulpit\\studia\\sem6\\hurtownie\\spotify-dwh\\.env\"\n",
    "load_dotenv(dotenv_path=env_path)\n",
    "\n",
    "client_id = os.getenv('SPOTIFY_API_KEY')\n",
    "client_secret = os.getenv('CLIENT_SECRET')"
   ]
  },
  {
   "cell_type": "code",
   "execution_count": 33,
   "id": "75225668",
   "metadata": {},
   "outputs": [],
   "source": [
    "sp = spotipy.Spotify(auth_manager=SpotifyClientCredentials(client_id=client_id,\n",
    "                                                           client_secret=client_secret))"
   ]
  },
  {
   "cell_type": "code",
   "execution_count": 6,
   "id": "88c066b3",
   "metadata": {},
   "outputs": [],
   "source": [
    "data = pd.read_csv(r'C:\\Users\\marty\\OneDrive\\Pulpit\\studia\\sem6\\hurtownie\\spotify-dwh\\data\\sample.csv')\n",
    "audio_features_1 = pd.read_csv(r'C:\\Users\\marty\\OneDrive\\Pulpit\\studia\\sem6\\hurtownie\\spotify-dwh\\data\\spotify_tracks_with_audio_features.csv')\n",
    "audio_features_2 = pd.read_csv(r'C:\\Users\\marty\\OneDrive\\Pulpit\\studia\\sem6\\hurtownie\\spotify-dwh\\data\\tracks_with_audio_features.csv')\n"
   ]
  },
  {
   "cell_type": "code",
   "execution_count": null,
   "id": "bd44e0d2",
   "metadata": {},
   "outputs": [],
   "source": [
    "def get_track_id(track_name, artist_name):\n",
    "    query = f\"{track_name} {artist_name}\"\n",
    "\n",
    "    results = sp.search(q=query, type='track')\n",
    "\n",
    "    if not results['tracks']['items']:\n",
    "        print(\"No tracks found.\")\n",
    "        return None\n",
    "\n",
    "    track_id = results['tracks']['items'][0]['id']\n",
    "    return track_id"
   ]
  }
 ],
 "metadata": {
  "kernelspec": {
   "display_name": "Python 3",
   "language": "python",
   "name": "python3"
  },
  "language_info": {
   "codemirror_mode": {
    "name": "ipython",
    "version": 3
   },
   "file_extension": ".py",
   "mimetype": "text/x-python",
   "name": "python",
   "nbconvert_exporter": "python",
   "pygments_lexer": "ipython3",
   "version": "3.10.0"
  }
 },
 "nbformat": 4,
 "nbformat_minor": 5
}
