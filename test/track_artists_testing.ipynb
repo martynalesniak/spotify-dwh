{
 "cells": [
  {
   "cell_type": "code",
   "execution_count": 1,
   "id": "a738d14e",
   "metadata": {},
   "outputs": [],
   "source": [
    "import pandas as pd\n",
    "import spotipy\n",
    "from spotipy.oauth2 import SpotifyClientCredentials, SpotifyOAuth\n",
    "import os\n",
    "from dotenv import load_dotenv\n",
    "import musicbrainzngs\n",
    "from api_calls import get_track_id, get_artist_metadata, get_track_metadata\n",
    "from artist_features import prepare_artist_track_row\n",
    "import time"
   ]
  },
  {
   "cell_type": "code",
   "execution_count": 2,
   "id": "acf0350b",
   "metadata": {},
   "outputs": [],
   "source": [
    "env_path = r\"C:\\Users\\marty\\OneDrive\\Pulpit\\studia\\sem6\\hurtownie\\spotify-dwh\\.env\"\n",
    "load_dotenv(dotenv_path=env_path)\n",
    "\n",
    "client_id = os.getenv('SPOTIFY_API_KEY')\n",
    "client_secret = os.getenv('CLIENT_SECRET')"
   ]
  },
  {
   "cell_type": "code",
   "execution_count": 3,
   "id": "75225668",
   "metadata": {},
   "outputs": [],
   "source": [
    "sp = spotipy.Spotify(auth_manager=SpotifyClientCredentials(client_id=client_id,\n",
    "                                                           client_secret=client_secret))"
   ]
  },
  {
   "cell_type": "code",
   "execution_count": 4,
   "id": "660737f9",
   "metadata": {},
   "outputs": [],
   "source": [
    "billboard = pd.read_csv(r'C:\\Users\\marty\\OneDrive\\Pulpit\\studia\\sem6\\hurtownie\\spotify-dwh\\data\\billboard200.csv', nrows=1000)\n",
    "charts = pd.read_csv(r'C:\\Users\\marty\\OneDrive\\Pulpit\\studia\\sem6\\hurtownie\\spotify-dwh\\data\\charts.csv', nrows=5000)\n",
    "digital_songs = pd.read_csv(r'C:\\Users\\marty\\OneDrive\\Pulpit\\studia\\sem6\\hurtownie\\spotify-dwh\\data\\digital_songs.csv', nrows=1000)\n",
    "hot100 = pd.read_csv(r'C:\\Users\\marty\\OneDrive\\Pulpit\\studia\\sem6\\hurtownie\\spotify-dwh\\data\\hot100.csv', nrows=1000)\n",
    "radio = pd.read_csv(r'C:\\Users\\marty\\OneDrive\\Pulpit\\studia\\sem6\\hurtownie\\spotify-dwh\\data\\radio.csv', nrows=1000)\n",
    "streaming_songs = pd.read_csv(r'C:\\Users\\marty\\OneDrive\\Pulpit\\studia\\sem6\\hurtownie\\spotify-dwh\\data\\streaming_songs.csv', nrows=1000)\n",
    "#tracks = pd.read_csv(r'C:\\Users\\marty\\OneDrive\\Pulpit\\studia\\sem6\\hurtownie\\spotify-dwh\\data\\tracks.csv', nrows=1000)"
   ]
  },
  {
   "cell_type": "code",
   "execution_count": 5,
   "id": "3f88c868",
   "metadata": {},
   "outputs": [
    {
     "data": {
      "text/plain": [
       "title                                   なんでもないや - movie ver.\n",
       "rank                                                      37\n",
       "date                                              2017-01-01\n",
       "artist                                    Mone Kamishiraishi\n",
       "url        https://open.spotify.com/track/59pUIlXjQupbiYw...\n",
       "region                                                 Japan\n",
       "chart                                                 top200\n",
       "trend                                                MOVE_UP\n",
       "streams                                                 2594\n",
       "Name: 4663, dtype: object"
      ]
     },
     "execution_count": 5,
     "metadata": {},
     "output_type": "execute_result"
    }
   ],
   "source": [
    "charts.iloc[4663]"
   ]
  },
  {
   "cell_type": "code",
   "execution_count": 6,
   "id": "627a87ee",
   "metadata": {},
   "outputs": [
    {
     "name": "stdout",
     "output_type": "stream",
     "text": [
      "Znaleziono 15 artystów dla nazwy 'Mone Kamishiraishi':\n",
      "\n",
      "1. Moné (Person, United States) - house music artist Ramona DeSouza\n",
      "2. Mone (Person, brak kraju) - voice of 東海林桃々子\n",
      "3. Mone (brak typu, Berlin) - Berlin-based Art Pop\n",
      "4. Moné (Group, France) - French techno duo David Guetta & Joachim Garraud\n",
      "5. Mone’ (brak typu, brak kraju) - singer featured on \"Flyin' With The Angels\"\n",
      "6. Mone (brak typu, brak kraju) - feat. artist on Mexican OT track\n",
      "7. Mone (Person, brak kraju) - Cosmetic, Italy\n",
      "8. Mone (Person, brak kraju) - member of 24-7 Posse\n",
      "9. mone (Person, Tokyo) - electronic artist\n",
      "10. Moné (Person, Germany) - German garage house vocalist Simone Böhlhoff\n",
      "11. ShredGang Mone (Person, Detroit) \n",
      "12. Gregory Mone (Person, brak kraju) \n",
      "13. Kled Moné (Person, Thessaloniki) \n",
      "14. Port Mone (Group, Minsk) \n",
      "15. Lez Moné (brak typu, Houston) \n",
      "Brak dopasowania dla artysty w musibrainz\n"
     ]
    }
   ],
   "source": [
    "row = charts.iloc[4663]  \n",
    "\n",
    "artist_df, track_df = prepare_artist_track_row(sp, row, is_spotify=True)"
   ]
  },
  {
   "cell_type": "code",
   "execution_count": 7,
   "id": "eebe6127",
   "metadata": {},
   "outputs": [
    {
     "data": {
      "text/html": [
       "<div>\n",
       "<style scoped>\n",
       "    .dataframe tbody tr th:only-of-type {\n",
       "        vertical-align: middle;\n",
       "    }\n",
       "\n",
       "    .dataframe tbody tr th {\n",
       "        vertical-align: top;\n",
       "    }\n",
       "\n",
       "    .dataframe thead th {\n",
       "        text-align: right;\n",
       "    }\n",
       "</style>\n",
       "<table border=\"1\" class=\"dataframe\">\n",
       "  <thead>\n",
       "    <tr style=\"text-align: right;\">\n",
       "      <th></th>\n",
       "      <th>track_name</th>\n",
       "      <th>artist_name</th>\n",
       "      <th>featuring_artists</th>\n",
       "      <th>artist_count</th>\n",
       "      <th>duration</th>\n",
       "      <th>explicit</th>\n",
       "      <th>spotify_track_id</th>\n",
       "      <th>genre</th>\n",
       "    </tr>\n",
       "  </thead>\n",
       "  <tbody>\n",
       "    <tr>\n",
       "      <th>0</th>\n",
       "      <td>なんでもないや - movie ver.</td>\n",
       "      <td>Mone Kamishiraishi</td>\n",
       "      <td>[]</td>\n",
       "      <td>1</td>\n",
       "      <td>349.92</td>\n",
       "      <td>False</td>\n",
       "      <td>59pUIlXjQupbiYwt40uUTi</td>\n",
       "      <td>[\"j-pop\"]</td>\n",
       "    </tr>\n",
       "  </tbody>\n",
       "</table>\n",
       "</div>"
      ],
      "text/plain": [
       "             track_name         artist_name featuring_artists  artist_count  \\\n",
       "0  なんでもないや - movie ver.  Mone Kamishiraishi                []             1   \n",
       "\n",
       "   duration  explicit        spotify_track_id      genre  \n",
       "0    349.92     False  59pUIlXjQupbiYwt40uUTi  [\"j-pop\"]  "
      ]
     },
     "execution_count": 7,
     "metadata": {},
     "output_type": "execute_result"
    }
   ],
   "source": [
    "track_df"
   ]
  },
  {
   "cell_type": "code",
   "execution_count": 8,
   "id": "28cb31ed",
   "metadata": {},
   "outputs": [],
   "source": [
    "import pandas as pd\n",
    "\n",
    "pd.set_option('display.max_colwidth', None)  "
   ]
  },
  {
   "cell_type": "code",
   "execution_count": 9,
   "id": "6a7e6938",
   "metadata": {},
   "outputs": [
    {
     "data": {
      "text/plain": [
       "0    []\n",
       "Name: featuring_artists, dtype: object"
      ]
     },
     "metadata": {},
     "output_type": "display_data"
    }
   ],
   "source": [
    "display(track_df['featuring_artists'])"
   ]
  },
  {
   "cell_type": "code",
   "execution_count": 10,
   "id": "a6358cba",
   "metadata": {},
   "outputs": [
    {
     "name": "stdout",
     "output_type": "stream",
     "text": [
      "Znaleziono 15 artystów dla nazwy 'Mone Kamishiraishi':\n",
      "\n",
      "1. Moné (Person, United States) - house music artist Ramona DeSouza\n",
      "2. Mone (Person, brak kraju) - voice of 東海林桃々子\n",
      "3. Mone (brak typu, Berlin) - Berlin-based Art Pop\n",
      "4. Moné (Group, France) - French techno duo David Guetta & Joachim Garraud\n",
      "5. Mone’ (brak typu, brak kraju) - singer featured on \"Flyin' With The Angels\"\n",
      "6. Mone (brak typu, brak kraju) - feat. artist on Mexican OT track\n",
      "7. Mone (Person, brak kraju) - Cosmetic, Italy\n",
      "8. mone (Person, Tokyo) - electronic artist\n",
      "9. Mone (Person, brak kraju) - member of 24-7 Posse\n",
      "10. Moné (Person, Germany) - German garage house vocalist Simone Böhlhoff\n",
      "11. ShredGang Mone (Person, Detroit) \n",
      "12. Gregory Mone (Person, brak kraju) \n",
      "13. Kled Moné (Person, Thessaloniki) \n",
      "14. Port Mone (Group, Minsk) \n",
      "15. Lez Moné (brak typu, Houston) \n",
      "Brak dopasowania dla artysty w musibrainz\n"
     ]
    }
   ],
   "source": [
    "artist_metadata = get_artist_metadata('Mone Kamishiraishi')"
   ]
  }
 ],
 "metadata": {
  "kernelspec": {
   "display_name": "Python 3",
   "language": "python",
   "name": "python3"
  },
  "language_info": {
   "codemirror_mode": {
    "name": "ipython",
    "version": 3
   },
   "file_extension": ".py",
   "mimetype": "text/x-python",
   "name": "python",
   "nbconvert_exporter": "python",
   "pygments_lexer": "ipython3",
   "version": "3.10.0"
  }
 },
 "nbformat": 4,
 "nbformat_minor": 5
}
