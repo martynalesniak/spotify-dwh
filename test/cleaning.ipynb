{
 "cells": [
  {
   "cell_type": "code",
   "execution_count": 2,
   "id": "1a3dca57",
   "metadata": {},
   "outputs": [],
   "source": [
    "import pandas as pd\n",
    "import numpy as np\n",
    "import matplotlib.pyplot as plt"
   ]
  },
  {
   "cell_type": "code",
   "execution_count": 16,
   "id": "1d1f2cb9",
   "metadata": {},
   "outputs": [
    {
     "name": "stderr",
     "output_type": "stream",
     "text": [
      "C:\\Users\\ulasz\\AppData\\Local\\Temp\\ipykernel_3820\\2833972347.py:1: DtypeWarning: Columns (4) have mixed types. Specify dtype option on import or set low_memory=False.\n",
      "  billboard = pd.read_csv(r'C:\\Users\\ulasz\\OneDrive\\Pulpit\\studia\\sem6\\hurtownie danych\\dane\\billboard200.csv')\n"
     ]
    }
   ],
   "source": [
    "\n",
    "billboard = pd.read_csv(r'C:\\Users\\ulasz\\OneDrive\\Pulpit\\studia\\sem6\\hurtownie danych\\dane\\billboard200.csv')\n",
    "digital_songs = pd.read_csv(r'C:\\Users\\ulasz\\OneDrive\\Pulpit\\studia\\sem6\\hurtownie danych\\dane\\digital_songs.csv')\n",
    "hot100 = pd.read_csv(r'C:\\Users\\ulasz\\OneDrive\\Pulpit\\studia\\sem6\\hurtownie danych\\dane\\hot100.csv')\n",
    "radio = pd.read_csv(r'C:\\Users\\ulasz\\OneDrive\\Pulpit\\studia\\sem6\\hurtownie danych\\dane\\radio.csv')\n",
    "streaming_songs = pd.read_csv(r'C:\\Users\\ulasz\\OneDrive\\Pulpit\\studia\\sem6\\hurtownie danych\\dane\\streaming_songs.csv')"
   ]
  },
  {
   "cell_type": "code",
   "execution_count": 14,
   "id": "88b80c29",
   "metadata": {},
   "outputs": [
    {
     "name": "stdout",
     "output_type": "stream",
     "text": [
      "DataFrame: 630257 rows, 8 columns\n",
      "Columns: Date, Song, Artist, Rank, Last Week, Peak Position, Weeks in Charts, Image URL\n",
      "DataFrame: 62500 rows, 8 columns\n",
      "Columns: Date, Song, Artist, Rank, Last Week, Peak Position, Weeks in Charts, Image URL\n",
      "DataFrame: 345887 rows, 8 columns\n",
      "Columns: Date, Song, Artist, Rank, Last Week, Peak Position, Weeks in Charts, Image URL\n",
      "DataFrame: 119100 rows, 8 columns\n",
      "Columns: Date, Song, Artist, Rank, Last Week, Peak Position, Weeks in Charts, Image URL\n",
      "DataFrame: 30900 rows, 8 columns\n",
      "Columns: Date, Song, Artist, Rank, Last Week, Peak Position, Weeks in Charts, Image URL\n"
     ]
    }
   ],
   "source": [
    "for df in [billboard, digital_songs, hot100, radio, streaming_songs]:\n",
    "   \n",
    "    print(f\"DataFrame: {df.shape[0]} rows, {df.shape[1]} columns\")\n",
    "    print(f\"Columns: {', '.join(df.columns)}\")"
   ]
  },
  {
   "cell_type": "code",
   "execution_count": 17,
   "id": "64538b3f",
   "metadata": {},
   "outputs": [],
   "source": [
    "import os\n",
    "\n",
    "# Twoja ścieżka do katalogu docelowego\n",
    "output_dir = r\"C:\\Users\\ulasz\\OneDrive\\Pulpit\\studia\\sem6\\hurtownie danych\\dane\"\n",
    "\n",
    "# Tworzy folder, jeśli nie istnieje (opcjonalnie)\n",
    "os.makedirs(output_dir, exist_ok=True)\n",
    "\n",
    "dataframes = {\n",
    "    'billboard': billboard,\n",
    "    'digital_songs': digital_songs,\n",
    "    'hot100': hot100,\n",
    "    'radio': radio,\n",
    "    'streaming_songs': streaming_songs\n",
    "}\n",
    "\n",
    "for name, df in dataframes.items():\n",
    "    df['region'] = 'Global'\n",
    "    df['chart_type'] = 'Billboard'\n",
    "    df['previous_rank'] = df['Last Week']\n",
    "    df = df[['Date', 'Song', 'Artist', 'Rank', 'region', 'chart_type', 'previous_rank', 'Peak Position', 'Weeks in Charts']]\n",
    "    \n",
    "    # Pełna ścieżka do pliku\n",
    "    output_path = os.path.join(output_dir, f\"{name}_processed.csv\")\n",
    "    df.to_csv(output_path, index=False)"
   ]
  }
 ],
 "metadata": {
  "kernelspec": {
   "display_name": ".venv",
   "language": "python",
   "name": "python3"
  },
  "language_info": {
   "codemirror_mode": {
    "name": "ipython",
    "version": 3
   },
   "file_extension": ".py",
   "mimetype": "text/x-python",
   "name": "python",
   "nbconvert_exporter": "python",
   "pygments_lexer": "ipython3",
   "version": "3.9.1"
  }
 },
 "nbformat": 4,
 "nbformat_minor": 5
}
